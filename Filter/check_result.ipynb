{
 "cells": [
  {
   "cell_type": "code",
   "execution_count": 3,
   "metadata": {},
   "outputs": [],
   "source": [
    "import pandas as pd"
   ]
  },
  {
   "cell_type": "code",
   "execution_count": 7,
   "metadata": {},
   "outputs": [],
   "source": [
    "pkl_file = \"results/audio_features_with_phonemic_flow.pkl\""
   ]
  },
  {
   "cell_type": "code",
   "execution_count": 24,
   "metadata": {},
   "outputs": [
    {
     "data": {
      "text/html": [
       "<div>\n",
       "<style scoped>\n",
       "    .dataframe tbody tr th:only-of-type {\n",
       "        vertical-align: middle;\n",
       "    }\n",
       "\n",
       "    .dataframe tbody tr th {\n",
       "        vertical-align: top;\n",
       "    }\n",
       "\n",
       "    .dataframe thead th {\n",
       "        text-align: right;\n",
       "    }\n",
       "</style>\n",
       "<table border=\"1\" class=\"dataframe\">\n",
       "  <thead>\n",
       "    <tr style=\"text-align: right;\">\n",
       "      <th></th>\n",
       "      <th>file_path</th>\n",
       "      <th>duration</th>\n",
       "      <th>mean_f0</th>\n",
       "      <th>mean_log10_f0</th>\n",
       "      <th>std_f0</th>\n",
       "      <th>mean_energy</th>\n",
       "      <th>std_energy</th>\n",
       "      <th>flow_phonemic</th>\n",
       "    </tr>\n",
       "  </thead>\n",
       "  <tbody>\n",
       "    <tr>\n",
       "      <th>2026</th>\n",
       "      <td>/lium/home/fsaget/2425-PROJETM1/resources/data/VoxCeleb1/wav/wav/id10270/5r0dWxy17C8/00001.wav</td>\n",
       "      <td>8.360062</td>\n",
       "      <td>172.953213</td>\n",
       "      <td>2.229158</td>\n",
       "      <td>0.084754</td>\n",
       "      <td>0.016711</td>\n",
       "      <td>0.010802</td>\n",
       "      <td>13.210445</td>\n",
       "    </tr>\n",
       "  </tbody>\n",
       "</table>\n",
       "</div>"
      ],
      "text/plain": [
       "                                                                                           file_path  \\\n",
       "2026  /lium/home/fsaget/2425-PROJETM1/resources/data/VoxCeleb1/wav/wav/id10270/5r0dWxy17C8/00001.wav   \n",
       "\n",
       "      duration     mean_f0  mean_log10_f0    std_f0  mean_energy  std_energy  \\\n",
       "2026  8.360062  172.953213       2.229158  0.084754     0.016711    0.010802   \n",
       "\n",
       "      flow_phonemic  \n",
       "2026      13.210445  "
      ]
     },
     "execution_count": 24,
     "metadata": {},
     "output_type": "execute_result"
    }
   ],
   "source": [
    "pd.set_option('display.max_colwidth', None)\n",
    "data_loaded = pd.read_pickle(pkl_file)\n",
    "df = pd.DataFrame(data_loaded)\n",
    "df = df[df[\"file_path\"].str.contains('/id10270/5r0dWxy17C8/00001')]\n",
    "df\n"
   ]
  }
 ],
 "metadata": {
  "kernelspec": {
   "display_name": "Python 3",
   "language": "python",
   "name": "python3"
  },
  "language_info": {
   "codemirror_mode": {
    "name": "ipython",
    "version": 3
   },
   "file_extension": ".py",
   "mimetype": "text/x-python",
   "name": "python",
   "nbconvert_exporter": "python",
   "pygments_lexer": "ipython3",
   "version": "3.9.20"
  }
 },
 "nbformat": 4,
 "nbformat_minor": 2
}
