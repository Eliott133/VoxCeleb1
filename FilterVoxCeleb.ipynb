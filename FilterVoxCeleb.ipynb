{
 "cells": [
  {
   "cell_type": "code",
   "execution_count": 2,
   "metadata": {},
   "outputs": [],
   "source": [
    "import pandas as pd\n",
    "import numpy as np\n",
    "import matplotlib.pyplot as plt"
   ]
  },
  {
   "cell_type": "code",
   "execution_count": 3,
   "metadata": {},
   "outputs": [
    {
     "name": "stdout",
     "output_type": "stream",
     "text": [
      "Index(['VoxCeleb1 ID', 'VGGFace1 ID', 'Gender', 'Nationality', 'Set'], dtype='object')\n"
     ]
    }
   ],
   "source": [
    "meta = pd.read_csv('meta.csv', sep=\"\\t\")\n",
    "print(meta.columns)"
   ]
  },
  {
   "cell_type": "code",
   "execution_count": 5,
   "metadata": {},
   "outputs": [
    {
     "data": {
      "text/html": [
       "<div>\n",
       "<style scoped>\n",
       "    .dataframe tbody tr th:only-of-type {\n",
       "        vertical-align: middle;\n",
       "    }\n",
       "\n",
       "    .dataframe tbody tr th {\n",
       "        vertical-align: top;\n",
       "    }\n",
       "\n",
       "    .dataframe thead th {\n",
       "        text-align: right;\n",
       "    }\n",
       "</style>\n",
       "<table border=\"1\" class=\"dataframe\">\n",
       "  <thead>\n",
       "    <tr style=\"text-align: right;\">\n",
       "      <th></th>\n",
       "      <th>VoxCeleb1 ID</th>\n",
       "      <th>VGGFace1 ID</th>\n",
       "      <th>Gender</th>\n",
       "      <th>Nationality</th>\n",
       "      <th>Set</th>\n",
       "    </tr>\n",
       "  </thead>\n",
       "  <tbody>\n",
       "    <tr>\n",
       "      <th>269</th>\n",
       "      <td>id10270</td>\n",
       "      <td>Eartha_Kitt</td>\n",
       "      <td>f</td>\n",
       "      <td>USA</td>\n",
       "      <td>test</td>\n",
       "    </tr>\n",
       "    <tr>\n",
       "      <th>270</th>\n",
       "      <td>id10271</td>\n",
       "      <td>Ed_Westwick</td>\n",
       "      <td>m</td>\n",
       "      <td>UK</td>\n",
       "      <td>test</td>\n",
       "    </tr>\n",
       "    <tr>\n",
       "      <th>271</th>\n",
       "      <td>id10272</td>\n",
       "      <td>Eddie_Griffin</td>\n",
       "      <td>m</td>\n",
       "      <td>USA</td>\n",
       "      <td>test</td>\n",
       "    </tr>\n",
       "    <tr>\n",
       "      <th>272</th>\n",
       "      <td>id10273</td>\n",
       "      <td>Eddie_Izzard</td>\n",
       "      <td>m</td>\n",
       "      <td>UK</td>\n",
       "      <td>test</td>\n",
       "    </tr>\n",
       "    <tr>\n",
       "      <th>273</th>\n",
       "      <td>id10274</td>\n",
       "      <td>Eddie_Kaye_Thomas</td>\n",
       "      <td>m</td>\n",
       "      <td>USA</td>\n",
       "      <td>test</td>\n",
       "    </tr>\n",
       "  </tbody>\n",
       "</table>\n",
       "</div>"
      ],
      "text/plain": [
       "    VoxCeleb1 ID        VGGFace1 ID Gender Nationality   Set\n",
       "269      id10270        Eartha_Kitt      f         USA  test\n",
       "270      id10271        Ed_Westwick      m          UK  test\n",
       "271      id10272      Eddie_Griffin      m         USA  test\n",
       "272      id10273       Eddie_Izzard      m          UK  test\n",
       "273      id10274  Eddie_Kaye_Thomas      m         USA  test"
      ]
     },
     "execution_count": 5,
     "metadata": {},
     "output_type": "execute_result"
    }
   ],
   "source": [
    "filtered_meta = meta[meta['Set'] == 'test']\n",
    "filtered_meta.head()"
   ]
  },
  {
   "cell_type": "code",
   "execution_count": 6,
   "metadata": {},
   "outputs": [
    {
     "name": "stdout",
     "output_type": "stream",
     "text": [
      "Meta : (1251, 5)\n",
      "Filtered : (40, 5)\n"
     ]
    }
   ],
   "source": [
    "print(f'Meta : {meta.shape}')\n",
    "print(f'Filtered : {filtered_meta.shape}')"
   ]
  },
  {
   "cell_type": "code",
   "execution_count": 7,
   "metadata": {},
   "outputs": [
    {
     "name": "stdout",
     "output_type": "stream",
     "text": [
      "['id10270' 'id10271' 'id10272' 'id10273' 'id10274' 'id10275' 'id10276'\n",
      " 'id10277' 'id10278' 'id10279' 'id10280' 'id10281' 'id10282' 'id10283'\n",
      " 'id10284' 'id10285' 'id10286' 'id10287' 'id10288' 'id10289' 'id10290'\n",
      " 'id10291' 'id10292' 'id10293' 'id10294' 'id10295' 'id10296' 'id10297'\n",
      " 'id10298' 'id10299' 'id10300' 'id10301' 'id10302' 'id10303' 'id10304'\n",
      " 'id10305' 'id10306' 'id10307' 'id10308' 'id10309'], taille : 40\n"
     ]
    }
   ],
   "source": [
    "idVox = np.array(filtered_meta['VoxCeleb1 ID'])\n",
    "print(f'{idVox}, taille : {len(idVox)}')"
   ]
  },
  {
   "cell_type": "code",
   "execution_count": 8,
   "metadata": {},
   "outputs": [
    {
     "data": {
      "image/png": "[encoded data removed]",
      "text/plain": [
       "<Figure size 640x480 with 1 Axes>"
      ]
     },
     "metadata": {},
     "output_type": "display_data"
    },
    {
     "data": {
      "image/png": "[encoded data removed]",
      "text/plain": [
       "<Figure size 640x480 with 1 Axes>"
      ]
     },
     "metadata": {},
     "output_type": "display_data"
    }
   ],
   "source": [
    "plt.hist(filtered_meta['Gender'], orientation=\"vertical\", align=\"mid\")\n",
    "plt.show()\n",
    "\n",
    "plt.hist(filtered_meta['Nationality'], orientation=\"vertical\", align=\"mid\")\n",
    "plt.show()"
   ]
  },
  {
   "cell_type": "code",
   "execution_count": 9,
   "metadata": {},
   "outputs": [
    {
     "data": {
      "text/html": [
       "<div>\n",
       "<style scoped>\n",
       "    .dataframe tbody tr th:only-of-type {\n",
       "        vertical-align: middle;\n",
       "    }\n",
       "\n",
       "    .dataframe tbody tr th {\n",
       "        vertical-align: top;\n",
       "    }\n",
       "\n",
       "    .dataframe thead th {\n",
       "        text-align: right;\n",
       "    }\n",
       "</style>\n",
       "<table border=\"1\" class=\"dataframe\">\n",
       "  <thead>\n",
       "    <tr style=\"text-align: right;\">\n",
       "      <th></th>\n",
       "      <th>VoxCeleb1 ID</th>\n",
       "      <th>VGGFace1 ID</th>\n",
       "      <th>Gender</th>\n",
       "      <th>Nationality</th>\n",
       "      <th>Set</th>\n",
       "    </tr>\n",
       "  </thead>\n",
       "  <tbody>\n",
       "    <tr>\n",
       "      <th>288</th>\n",
       "      <td>id10289</td>\n",
       "      <td>Elodie_Yung</td>\n",
       "      <td>f</td>\n",
       "      <td>France</td>\n",
       "      <td>test</td>\n",
       "    </tr>\n",
       "  </tbody>\n",
       "</table>\n",
       "</div>"
      ],
      "text/plain": [
       "    VoxCeleb1 ID  VGGFace1 ID Gender Nationality   Set\n",
       "288      id10289  Elodie_Yung      f      France  test"
      ]
     },
     "execution_count": 9,
     "metadata": {},
     "output_type": "execute_result"
    }
   ],
   "source": [
    "filtered_meta[filtered_meta['Nationality']=='France']"
   ]
  },
  {
   "cell_type": "code",
   "execution_count": 10,
   "metadata": {},
   "outputs": [
    {
     "data": {
      "text/html": [
       "<div>\n",
       "<style scoped>\n",
       "    .dataframe tbody tr th:only-of-type {\n",
       "        vertical-align: middle;\n",
       "    }\n",
       "\n",
       "    .dataframe tbody tr th {\n",
       "        vertical-align: top;\n",
       "    }\n",
       "\n",
       "    .dataframe thead th {\n",
       "        text-align: right;\n",
       "    }\n",
       "</style>\n",
       "<table border=\"1\" class=\"dataframe\">\n",
       "  <thead>\n",
       "    <tr style=\"text-align: right;\">\n",
       "      <th></th>\n",
       "      <th>vector</th>\n",
       "      <th>speaker_id</th>\n",
       "      <th>pos_vector</th>\n",
       "      <th>minmax_global_vector</th>\n",
       "      <th>minmax_dim_vector</th>\n",
       "      <th>zscore_vector</th>\n",
       "      <th>zscore_shift_vector</th>\n",
       "    </tr>\n",
       "    <tr>\n",
       "      <th>hash</th>\n",
       "      <th></th>\n",
       "      <th></th>\n",
       "      <th></th>\n",
       "      <th></th>\n",
       "      <th></th>\n",
       "      <th></th>\n",
       "      <th></th>\n",
       "    </tr>\n",
       "  </thead>\n",
       "  <tbody>\n",
       "    <tr>\n",
       "      <th>test/wav/id10270/5r0dWxy17C8/00001/id10270</th>\n",
       "      <td>[0.16677973, 0.51556623, -1.7497325, -0.538040...</td>\n",
       "      <td>id10270</td>\n",
       "      <td>[5.0046434, 5.3534303, 3.0881314, 4.2998238, 5...</td>\n",
       "      <td>[0.52459747, 0.56115806, 0.32370457, 0.4507167...</td>\n",
       "      <td>[0.48880646, 0.65152943, 0.37789744, 0.4167390...</td>\n",
       "      <td>[0.12115961, 1.3865099, -1.8904918, -0.6341658...</td>\n",
       "      <td>[0.6211596, 1.8865099, -1.3904918, -0.13416582...</td>\n",
       "    </tr>\n",
       "    <tr>\n",
       "      <th>test/wav/id10270/5r0dWxy17C8/00002/id10270</th>\n",
       "      <td>[-0.047922466, -0.39251155, -0.36081952, -0.48...</td>\n",
       "      <td>id10270</td>\n",
       "      <td>[4.7899413, 4.4453526, 4.4770446, 4.349752, 5....</td>\n",
       "      <td>[0.50209194, 0.4659714, 0.46929345, 0.45595035...</td>\n",
       "      <td>[0.4601385, 0.5373818, 0.57263625, 0.4237954, ...</td>\n",
       "      <td>[-0.13951242, 0.23159835, -0.102766916, -0.569...</td>\n",
       "      <td>[0.36048758, 0.7315984, 0.39723307, -0.0694794...</td>\n",
       "    </tr>\n",
       "    <tr>\n",
       "      <th>test/wav/id10270/5r0dWxy17C8/00003/id10270</th>\n",
       "      <td>[0.39505747, 0.8962203, -0.85319316, -0.259544...</td>\n",
       "      <td>id10270</td>\n",
       "      <td>[5.2329216, 5.734084, 3.9846706, 4.5783195, 5....</td>\n",
       "      <td>[0.5485261, 0.601059, 0.41768175, 0.4799093, 0...</td>\n",
       "      <td>[0.51928705, 0.69937855, 0.5036008, 0.45609897...</td>\n",
       "      <td>[0.39831385, 1.8706334, -0.7365205, -0.2733504...</td>\n",
       "      <td>[0.8983139, 2.3706334, -0.23652053, 0.22664958...</td>\n",
       "    </tr>\n",
       "    <tr>\n",
       "      <th>test/wav/id10270/5r0dWxy17C8/00004/id10270</th>\n",
       "      <td>[0.9855559, 0.038952593, -1.2818534, -0.980524...</td>\n",
       "      <td>id10270</td>\n",
       "      <td>[5.8234196, 4.8768167, 3.5560105, 3.8573391, 6...</td>\n",
       "      <td>[0.6104233, 0.5111984, 0.37274867, 0.40433457,...</td>\n",
       "      <td>[0.5981329, 0.59161794, 0.44349852, 0.35420254...</td>\n",
       "      <td>[1.1152438, 0.78034306, -1.2882662, -1.2074428...</td>\n",
       "      <td>[1.6152438, 1.280343, -0.7882662, -0.70744276,...</td>\n",
       "    </tr>\n",
       "    <tr>\n",
       "      <th>test/wav/id10270/5r0dWxy17C8/00005/id10270</th>\n",
       "      <td>[0.8016236, 0.21639231, -1.5710604, -0.8850068...</td>\n",
       "      <td>id10270</td>\n",
       "      <td>[5.6394873, 5.0542564, 3.2668035, 3.952857, 5....</td>\n",
       "      <td>[0.5911432, 0.52979803, 0.34243336, 0.41434696...</td>\n",
       "      <td>[0.57357347, 0.61392254, 0.40294898, 0.3677021...</td>\n",
       "      <td>[0.89192975, 1.0060145, -1.6605159, -1.0836911...</td>\n",
       "      <td>[1.3919297, 1.5060145, -1.1605159, -0.5836911,...</td>\n",
       "    </tr>\n",
       "  </tbody>\n",
       "</table>\n",
       "</div>"
      ],
      "text/plain": [
       "                                                                                       vector  \\\n",
       "hash                                                                                            \n",
       "test/wav/id10270/5r0dWxy17C8/00001/id10270  [0.16677973, 0.51556623, -1.7497325, -0.538040...   \n",
       "test/wav/id10270/5r0dWxy17C8/00002/id10270  [-0.047922466, -0.39251155, -0.36081952, -0.48...   \n",
       "test/wav/id10270/5r0dWxy17C8/00003/id10270  [0.39505747, 0.8962203, -0.85319316, -0.259544...   \n",
       "test/wav/id10270/5r0dWxy17C8/00004/id10270  [0.9855559, 0.038952593, -1.2818534, -0.980524...   \n",
       "test/wav/id10270/5r0dWxy17C8/00005/id10270  [0.8016236, 0.21639231, -1.5710604, -0.8850068...   \n",
       "\n",
       "                                           speaker_id  \\\n",
       "hash                                                    \n",
       "test/wav/id10270/5r0dWxy17C8/00001/id10270    id10270   \n",
       "test/wav/id10270/5r0dWxy17C8/00002/id10270    id10270   \n",
       "test/wav/id10270/5r0dWxy17C8/00003/id10270    id10270   \n",
       "test/wav/id10270/5r0dWxy17C8/00004/id10270    id10270   \n",
       "test/wav/id10270/5r0dWxy17C8/00005/id10270    id10270   \n",
       "\n",
       "                                                                                   pos_vector  \\\n",
       "hash                                                                                            \n",
       "test/wav/id10270/5r0dWxy17C8/00001/id10270  [5.0046434, 5.3534303, 3.0881314, 4.2998238, 5...   \n",
       "test/wav/id10270/5r0dWxy17C8/00002/id10270  [4.7899413, 4.4453526, 4.4770446, 4.349752, 5....   \n",
       "test/wav/id10270/5r0dWxy17C8/00003/id10270  [5.2329216, 5.734084, 3.9846706, 4.5783195, 5....   \n",
       "test/wav/id10270/5r0dWxy17C8/00004/id10270  [5.8234196, 4.8768167, 3.5560105, 3.8573391, 6...   \n",
       "test/wav/id10270/5r0dWxy17C8/00005/id10270  [5.6394873, 5.0542564, 3.2668035, 3.952857, 5....   \n",
       "\n",
       "                                                                         minmax_global_vector  \\\n",
       "hash                                                                                            \n",
       "test/wav/id10270/5r0dWxy17C8/00001/id10270  [0.52459747, 0.56115806, 0.32370457, 0.4507167...   \n",
       "test/wav/id10270/5r0dWxy17C8/00002/id10270  [0.50209194, 0.4659714, 0.46929345, 0.45595035...   \n",
       "test/wav/id10270/5r0dWxy17C8/00003/id10270  [0.5485261, 0.601059, 0.41768175, 0.4799093, 0...   \n",
       "test/wav/id10270/5r0dWxy17C8/00004/id10270  [0.6104233, 0.5111984, 0.37274867, 0.40433457,...   \n",
       "test/wav/id10270/5r0dWxy17C8/00005/id10270  [0.5911432, 0.52979803, 0.34243336, 0.41434696...   \n",
       "\n",
       "                                                                            minmax_dim_vector  \\\n",
       "hash                                                                                            \n",
       "test/wav/id10270/5r0dWxy17C8/00001/id10270  [0.48880646, 0.65152943, 0.37789744, 0.4167390...   \n",
       "test/wav/id10270/5r0dWxy17C8/00002/id10270  [0.4601385, 0.5373818, 0.57263625, 0.4237954, ...   \n",
       "test/wav/id10270/5r0dWxy17C8/00003/id10270  [0.51928705, 0.69937855, 0.5036008, 0.45609897...   \n",
       "test/wav/id10270/5r0dWxy17C8/00004/id10270  [0.5981329, 0.59161794, 0.44349852, 0.35420254...   \n",
       "test/wav/id10270/5r0dWxy17C8/00005/id10270  [0.57357347, 0.61392254, 0.40294898, 0.3677021...   \n",
       "\n",
       "                                                                                zscore_vector  \\\n",
       "hash                                                                                            \n",
       "test/wav/id10270/5r0dWxy17C8/00001/id10270  [0.12115961, 1.3865099, -1.8904918, -0.6341658...   \n",
       "test/wav/id10270/5r0dWxy17C8/00002/id10270  [-0.13951242, 0.23159835, -0.102766916, -0.569...   \n",
       "test/wav/id10270/5r0dWxy17C8/00003/id10270  [0.39831385, 1.8706334, -0.7365205, -0.2733504...   \n",
       "test/wav/id10270/5r0dWxy17C8/00004/id10270  [1.1152438, 0.78034306, -1.2882662, -1.2074428...   \n",
       "test/wav/id10270/5r0dWxy17C8/00005/id10270  [0.89192975, 1.0060145, -1.6605159, -1.0836911...   \n",
       "\n",
       "                                                                          zscore_shift_vector  \n",
       "hash                                                                                           \n",
       "test/wav/id10270/5r0dWxy17C8/00001/id10270  [0.6211596, 1.8865099, -1.3904918, -0.13416582...  \n",
       "test/wav/id10270/5r0dWxy17C8/00002/id10270  [0.36048758, 0.7315984, 0.39723307, -0.0694794...  \n",
       "test/wav/id10270/5r0dWxy17C8/00003/id10270  [0.8983139, 2.3706334, -0.23652053, 0.22664958...  \n",
       "test/wav/id10270/5r0dWxy17C8/00004/id10270  [1.6152438, 1.280343, -0.7882662, -0.70744276,...  \n",
       "test/wav/id10270/5r0dWxy17C8/00005/id10270  [1.3919297, 1.5060145, -1.1605159, -0.5836911,...  "
      ]
     },
     "execution_count": 10,
     "metadata": {},
     "output_type": "execute_result"
    }
   ],
   "source": [
    "data = pd.read_pickle('test.pkl')\n",
    "data.head()"
   ]
  },
  {
   "cell_type": "code",
   "execution_count": 11,
   "metadata": {},
   "outputs": [
    {
     "name": "stdout",
     "output_type": "stream",
     "text": [
      "(4874, 7)\n",
      "Index(['vector', 'speaker_id', 'pos_vector', 'minmax_global_vector',\n",
      "       'minmax_dim_vector', 'zscore_vector', 'zscore_shift_vector'],\n",
      "      dtype='object')\n"
     ]
    }
   ],
   "source": [
    "print(data.shape)\n",
    "print(data.columns)"
   ]
  },
  {
   "cell_type": "code",
   "execution_count": 12,
   "metadata": {},
   "outputs": [],
   "source": [
    "def filter(meta, data, gender, fileName):\n",
    "  gender = gender.lower()\n",
    "  genderMetaAvailable = meta['Gender'].unique()\n",
    "  if(gender in genderMetaAvailable):\n",
    "    filtered_meta = meta[meta['Gender'] == gender]\n",
    "    idVox = np.array(filtered_meta['VoxCeleb1 ID'])\n",
    "    filtered_data = data[data['speaker_id'].isin(idVox)]\n",
    "    filtered_data.to_pickle(fileName)\n",
    "    print(f'The file {fileName} has been create')\n",
    "  else:\n",
    "    print(f\"gender must be in {genderMetaAvailable} (Capital except)\")"
   ]
  },
  {
   "cell_type": "code",
   "execution_count": 13,
   "metadata": {},
   "outputs": [
    {
     "name": "stdout",
     "output_type": "stream",
     "text": [
      "The file female.pkl has been create\n"
     ]
    }
   ],
   "source": [
    "filter(filtered_meta, data, 'f', 'female.pkl')"
   ]
  },
  {
   "cell_type": "code",
   "execution_count": 15,
   "metadata": {},
   "outputs": [
    {
     "name": "stdout",
     "output_type": "stream",
     "text": [
      "(158, 7)\n"
     ]
    }
   ],
   "source": [
    "dataFemale = pd.read_pickle('female.pkl')\n",
    "print(dataFemale[dataFemale['speaker_id'] == 'id10270'].shape)"
   ]
  },
  {
   "cell_type": "code",
   "execution_count": 18,
   "metadata": {},
   "outputs": [
    {
     "name": "stdout",
     "output_type": "stream",
     "text": [
      "(158, 7)\n"
     ]
    }
   ],
   "source": [
    "dataFemale2 = pd.read_pickle('web/output/testFemmeIndiferrent.pkl')\n",
    "print(dataFemale[dataFemale['speaker_id'] == 'id10270'].shape)"
   ]
  }
 ],
 "metadata": {
  "kernelspec": {
   "display_name": "Python 3",
   "language": "python",
   "name": "python3"
  },
  "language_info": {
   "codemirror_mode": {
    "name": "ipython",
    "version": 3
   },
   "file_extension": ".py",
   "mimetype": "text/x-python",
   "name": "python",
   "nbconvert_exporter": "python",
   "pygments_lexer": "ipython3",
   "version": "3.9.20"
  }
 },
 "nbformat": 4,
 "nbformat_minor": 2
}
